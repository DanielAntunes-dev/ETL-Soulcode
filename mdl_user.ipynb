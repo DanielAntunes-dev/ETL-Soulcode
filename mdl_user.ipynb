{
  "nbformat": 4,
  "nbformat_minor": 0,
  "metadata": {
    "colab": {
      "provenance": [],
      "authorship_tag": "ABX9TyO/d3jIkIZG4r8ILsWFxvIr",
      "include_colab_link": true
    },
    "kernelspec": {
      "name": "python3",
      "display_name": "Python 3"
    },
    "language_info": {
      "name": "python"
    }
  },
  "cells": [
    {
      "cell_type": "markdown",
      "metadata": {
        "id": "view-in-github",
        "colab_type": "text"
      },
      "source": [
        "<a href=\"https://colab.research.google.com/github/DanielAntunes-dev/ETL-Soulcode/blob/main/mdl_user.ipynb\" target=\"_parent\"><img src=\"https://colab.research.google.com/assets/colab-badge.svg\" alt=\"Open In Colab\"/></a>"
      ]
    },
    {
      "cell_type": "code",
      "source": [],
      "metadata": {
        "id": "-wESC78Svb3_"
      },
      "execution_count": null,
      "outputs": []
    },
    {
      "cell_type": "code",
      "execution_count": null,
      "metadata": {
        "colab": {
          "base_uri": "https://localhost:8080/"
        },
        "id": "yC8YMXXo8hUz",
        "outputId": "0b1ee668-c479-4919-f51d-621f4177e24a"
      },
      "outputs": [
        {
          "output_type": "stream",
          "name": "stdout",
          "text": [
            "Requirement already satisfied: pandas in /usr/local/lib/python3.10/dist-packages (2.2.2)\n",
            "Requirement already satisfied: pyspark in /usr/local/lib/python3.10/dist-packages (3.5.3)\n",
            "Collecting mysql-connector-python\n",
            "  Downloading mysql_connector_python-9.1.0-cp310-cp310-manylinux_2_28_x86_64.whl.metadata (6.0 kB)\n",
            "Requirement already satisfied: google-cloud-bigquery in /usr/local/lib/python3.10/dist-packages (3.25.0)\n",
            "Requirement already satisfied: google-cloud-storage in /usr/local/lib/python3.10/dist-packages (2.8.0)\n",
            "Requirement already satisfied: gcsfs in /usr/local/lib/python3.10/dist-packages (2024.6.1)\n",
            "Collecting pymongo\n",
            "  Downloading pymongo-4.10.1-cp310-cp310-manylinux_2_17_x86_64.manylinux2014_x86_64.whl.metadata (22 kB)\n",
            "Collecting flatten_json\n",
            "  Downloading flatten_json-0.1.14-py3-none-any.whl.metadata (4.2 kB)\n",
            "Requirement already satisfied: numpy>=1.22.4 in /usr/local/lib/python3.10/dist-packages (from pandas) (1.26.4)\n",
            "Requirement already satisfied: python-dateutil>=2.8.2 in /usr/local/lib/python3.10/dist-packages (from pandas) (2.8.2)\n",
            "Requirement already satisfied: pytz>=2020.1 in /usr/local/lib/python3.10/dist-packages (from pandas) (2024.2)\n",
            "Requirement already satisfied: tzdata>=2022.7 in /usr/local/lib/python3.10/dist-packages (from pandas) (2024.2)\n",
            "Requirement already satisfied: py4j==0.10.9.7 in /usr/local/lib/python3.10/dist-packages (from pyspark) (0.10.9.7)\n",
            "Requirement already satisfied: google-api-core!=2.0.*,!=2.1.*,!=2.10.*,!=2.2.*,!=2.3.*,!=2.4.*,!=2.5.*,!=2.6.*,!=2.7.*,!=2.8.*,!=2.9.*,<3.0.0dev,>=1.34.1 in /usr/local/lib/python3.10/dist-packages (from google-api-core[grpc]!=2.0.*,!=2.1.*,!=2.10.*,!=2.2.*,!=2.3.*,!=2.4.*,!=2.5.*,!=2.6.*,!=2.7.*,!=2.8.*,!=2.9.*,<3.0.0dev,>=1.34.1->google-cloud-bigquery) (2.19.2)\n",
            "Requirement already satisfied: google-auth<3.0.0dev,>=2.14.1 in /usr/local/lib/python3.10/dist-packages (from google-cloud-bigquery) (2.27.0)\n",
            "Requirement already satisfied: google-cloud-core<3.0.0dev,>=1.6.0 in /usr/local/lib/python3.10/dist-packages (from google-cloud-bigquery) (2.4.1)\n",
            "Requirement already satisfied: google-resumable-media<3.0dev,>=0.6.0 in /usr/local/lib/python3.10/dist-packages (from google-cloud-bigquery) (2.7.2)\n",
            "Requirement already satisfied: packaging>=20.0.0 in /usr/local/lib/python3.10/dist-packages (from google-cloud-bigquery) (24.1)\n",
            "Requirement already satisfied: requests<3.0.0dev,>=2.21.0 in /usr/local/lib/python3.10/dist-packages (from google-cloud-bigquery) (2.32.3)\n",
            "Requirement already satisfied: aiohttp!=4.0.0a0,!=4.0.0a1 in /usr/local/lib/python3.10/dist-packages (from gcsfs) (3.10.10)\n",
            "Requirement already satisfied: decorator>4.1.2 in /usr/local/lib/python3.10/dist-packages (from gcsfs) (4.4.2)\n",
            "Requirement already satisfied: fsspec==2024.6.1 in /usr/local/lib/python3.10/dist-packages (from gcsfs) (2024.6.1)\n",
            "Requirement already satisfied: google-auth-oauthlib in /usr/local/lib/python3.10/dist-packages (from gcsfs) (1.2.1)\n",
            "Collecting dnspython<3.0.0,>=1.16.0 (from pymongo)\n",
            "  Downloading dnspython-2.7.0-py3-none-any.whl.metadata (5.8 kB)\n",
            "Requirement already satisfied: six in /usr/local/lib/python3.10/dist-packages (from flatten_json) (1.16.0)\n",
            "Requirement already satisfied: aiohappyeyeballs>=2.3.0 in /usr/local/lib/python3.10/dist-packages (from aiohttp!=4.0.0a0,!=4.0.0a1->gcsfs) (2.4.3)\n",
            "Requirement already satisfied: aiosignal>=1.1.2 in /usr/local/lib/python3.10/dist-packages (from aiohttp!=4.0.0a0,!=4.0.0a1->gcsfs) (1.3.1)\n",
            "Requirement already satisfied: attrs>=17.3.0 in /usr/local/lib/python3.10/dist-packages (from aiohttp!=4.0.0a0,!=4.0.0a1->gcsfs) (24.2.0)\n",
            "Requirement already satisfied: frozenlist>=1.1.1 in /usr/local/lib/python3.10/dist-packages (from aiohttp!=4.0.0a0,!=4.0.0a1->gcsfs) (1.5.0)\n",
            "Requirement already satisfied: multidict<7.0,>=4.5 in /usr/local/lib/python3.10/dist-packages (from aiohttp!=4.0.0a0,!=4.0.0a1->gcsfs) (6.1.0)\n",
            "Requirement already satisfied: yarl<2.0,>=1.12.0 in /usr/local/lib/python3.10/dist-packages (from aiohttp!=4.0.0a0,!=4.0.0a1->gcsfs) (1.16.0)\n",
            "Requirement already satisfied: async-timeout<5.0,>=4.0 in /usr/local/lib/python3.10/dist-packages (from aiohttp!=4.0.0a0,!=4.0.0a1->gcsfs) (4.0.3)\n",
            "Requirement already satisfied: googleapis-common-protos<2.0.dev0,>=1.56.2 in /usr/local/lib/python3.10/dist-packages (from google-api-core!=2.0.*,!=2.1.*,!=2.10.*,!=2.2.*,!=2.3.*,!=2.4.*,!=2.5.*,!=2.6.*,!=2.7.*,!=2.8.*,!=2.9.*,<3.0.0dev,>=1.34.1->google-api-core[grpc]!=2.0.*,!=2.1.*,!=2.10.*,!=2.2.*,!=2.3.*,!=2.4.*,!=2.5.*,!=2.6.*,!=2.7.*,!=2.8.*,!=2.9.*,<3.0.0dev,>=1.34.1->google-cloud-bigquery) (1.65.0)\n",
            "Requirement already satisfied: protobuf!=3.20.0,!=3.20.1,!=4.21.0,!=4.21.1,!=4.21.2,!=4.21.3,!=4.21.4,!=4.21.5,<6.0.0.dev0,>=3.19.5 in /usr/local/lib/python3.10/dist-packages (from google-api-core!=2.0.*,!=2.1.*,!=2.10.*,!=2.2.*,!=2.3.*,!=2.4.*,!=2.5.*,!=2.6.*,!=2.7.*,!=2.8.*,!=2.9.*,<3.0.0dev,>=1.34.1->google-api-core[grpc]!=2.0.*,!=2.1.*,!=2.10.*,!=2.2.*,!=2.3.*,!=2.4.*,!=2.5.*,!=2.6.*,!=2.7.*,!=2.8.*,!=2.9.*,<3.0.0dev,>=1.34.1->google-cloud-bigquery) (3.20.3)\n",
            "Requirement already satisfied: proto-plus<2.0.0dev,>=1.22.3 in /usr/local/lib/python3.10/dist-packages (from google-api-core!=2.0.*,!=2.1.*,!=2.10.*,!=2.2.*,!=2.3.*,!=2.4.*,!=2.5.*,!=2.6.*,!=2.7.*,!=2.8.*,!=2.9.*,<3.0.0dev,>=1.34.1->google-api-core[grpc]!=2.0.*,!=2.1.*,!=2.10.*,!=2.2.*,!=2.3.*,!=2.4.*,!=2.5.*,!=2.6.*,!=2.7.*,!=2.8.*,!=2.9.*,<3.0.0dev,>=1.34.1->google-cloud-bigquery) (1.25.0)\n",
            "Requirement already satisfied: grpcio<2.0dev,>=1.33.2 in /usr/local/lib/python3.10/dist-packages (from google-api-core[grpc]!=2.0.*,!=2.1.*,!=2.10.*,!=2.2.*,!=2.3.*,!=2.4.*,!=2.5.*,!=2.6.*,!=2.7.*,!=2.8.*,!=2.9.*,<3.0.0dev,>=1.34.1->google-cloud-bigquery) (1.64.1)\n",
            "Requirement already satisfied: grpcio-status<2.0.dev0,>=1.33.2 in /usr/local/lib/python3.10/dist-packages (from google-api-core[grpc]!=2.0.*,!=2.1.*,!=2.10.*,!=2.2.*,!=2.3.*,!=2.4.*,!=2.5.*,!=2.6.*,!=2.7.*,!=2.8.*,!=2.9.*,<3.0.0dev,>=1.34.1->google-cloud-bigquery) (1.48.2)\n",
            "Requirement already satisfied: cachetools<6.0,>=2.0.0 in /usr/local/lib/python3.10/dist-packages (from google-auth<3.0.0dev,>=2.14.1->google-cloud-bigquery) (5.5.0)\n",
            "Requirement already satisfied: pyasn1-modules>=0.2.1 in /usr/local/lib/python3.10/dist-packages (from google-auth<3.0.0dev,>=2.14.1->google-cloud-bigquery) (0.4.1)\n",
            "Requirement already satisfied: rsa<5,>=3.1.4 in /usr/local/lib/python3.10/dist-packages (from google-auth<3.0.0dev,>=2.14.1->google-cloud-bigquery) (4.9)\n",
            "Requirement already satisfied: google-crc32c<2.0dev,>=1.0 in /usr/local/lib/python3.10/dist-packages (from google-resumable-media<3.0dev,>=0.6.0->google-cloud-bigquery) (1.6.0)\n",
            "Requirement already satisfied: charset-normalizer<4,>=2 in /usr/local/lib/python3.10/dist-packages (from requests<3.0.0dev,>=2.21.0->google-cloud-bigquery) (3.4.0)\n",
            "Requirement already satisfied: idna<4,>=2.5 in /usr/local/lib/python3.10/dist-packages (from requests<3.0.0dev,>=2.21.0->google-cloud-bigquery) (3.10)\n",
            "Requirement already satisfied: urllib3<3,>=1.21.1 in /usr/local/lib/python3.10/dist-packages (from requests<3.0.0dev,>=2.21.0->google-cloud-bigquery) (2.2.3)\n",
            "Requirement already satisfied: certifi>=2017.4.17 in /usr/local/lib/python3.10/dist-packages (from requests<3.0.0dev,>=2.21.0->google-cloud-bigquery) (2024.8.30)\n",
            "Requirement already satisfied: requests-oauthlib>=0.7.0 in /usr/local/lib/python3.10/dist-packages (from google-auth-oauthlib->gcsfs) (1.3.1)\n",
            "Requirement already satisfied: typing-extensions>=4.1.0 in /usr/local/lib/python3.10/dist-packages (from multidict<7.0,>=4.5->aiohttp!=4.0.0a0,!=4.0.0a1->gcsfs) (4.12.2)\n",
            "Requirement already satisfied: pyasn1<0.7.0,>=0.4.6 in /usr/local/lib/python3.10/dist-packages (from pyasn1-modules>=0.2.1->google-auth<3.0.0dev,>=2.14.1->google-cloud-bigquery) (0.6.1)\n",
            "Requirement already satisfied: oauthlib>=3.0.0 in /usr/local/lib/python3.10/dist-packages (from requests-oauthlib>=0.7.0->google-auth-oauthlib->gcsfs) (3.2.2)\n",
            "Requirement already satisfied: propcache>=0.2.0 in /usr/local/lib/python3.10/dist-packages (from yarl<2.0,>=1.12.0->aiohttp!=4.0.0a0,!=4.0.0a1->gcsfs) (0.2.0)\n",
            "Downloading mysql_connector_python-9.1.0-cp310-cp310-manylinux_2_28_x86_64.whl (34.4 MB)\n",
            "\u001b[2K   \u001b[90m━━━━━━━━━━━━━━━━━━━━━━━━━━━━━━━━━━━━━━━━\u001b[0m \u001b[32m34.4/34.4 MB\u001b[0m \u001b[31m17.0 MB/s\u001b[0m eta \u001b[36m0:00:00\u001b[0m\n",
            "\u001b[?25hDownloading pymongo-4.10.1-cp310-cp310-manylinux_2_17_x86_64.manylinux2014_x86_64.whl (1.4 MB)\n",
            "\u001b[2K   \u001b[90m━━━━━━━━━━━━━━━━━━━━━━━━━━━━━━━━━━━━━━━━\u001b[0m \u001b[32m1.4/1.4 MB\u001b[0m \u001b[31m31.5 MB/s\u001b[0m eta \u001b[36m0:00:00\u001b[0m\n",
            "\u001b[?25hDownloading flatten_json-0.1.14-py3-none-any.whl (8.0 kB)\n",
            "Downloading dnspython-2.7.0-py3-none-any.whl (313 kB)\n",
            "\u001b[2K   \u001b[90m━━━━━━━━━━━━━━━━━━━━━━━━━━━━━━━━━━━━━━━━\u001b[0m \u001b[32m313.6/313.6 kB\u001b[0m \u001b[31m17.1 MB/s\u001b[0m eta \u001b[36m0:00:00\u001b[0m\n",
            "\u001b[?25hInstalling collected packages: mysql-connector-python, flatten_json, dnspython, pymongo\n",
            "Successfully installed dnspython-2.7.0 flatten_json-0.1.14 mysql-connector-python-9.1.0 pymongo-4.10.1\n"
          ]
        }
      ],
      "source": [
        "!pip install pandas pyspark mysql-connector-python google-cloud-bigquery google-cloud-storage gcsfs pymongo flatten_json"
      ]
    },
    {
      "cell_type": "code",
      "source": [
        "import pandas as pd\n",
        "import os\n",
        "import mysql.connector\n",
        "from mysql.connector import Error\n",
        "from pyspark.sql import SparkSession\n",
        "from google.cloud import storage\n",
        "from google.api_core.exceptions import Conflict\n",
        "from google.cloud import bigquery\n",
        "from google.colab import auth\n",
        "from google.colab import files\n",
        "from io import BytesIO\n",
        "from pymongo import MongoClient"
      ],
      "metadata": {
        "id": "fInTp89q8kee"
      },
      "execution_count": null,
      "outputs": []
    },
    {
      "cell_type": "code",
      "source": [
        "import os\n",
        "import shutil\n",
        "from pyspark.sql import SparkSession\n",
        "from pyspark.sql.functions import col, when, from_unixtime\n",
        "from pyspark.sql import functions as F\n",
        "\n",
        "spark = SparkSession.builder.appName(\"Processamento de CSV\").getOrCreate()\n",
        "\n",
        "arquivo = 'mdl_user.csv'\n",
        "\n",
        "df = spark.read.csv(arquivo, header=True, inferSchema=True)\n",
        "\n",
        "def substituir_nan(df):\n",
        "    for column in df.columns:\n",
        "        df = df.withColumn(column, when(col(column).isNull(), \"não informado\").otherwise(col(column)))\n",
        "    return df\n",
        "\n",
        "df = substituir_nan(df)\n",
        "\n",
        "def tratar_campos_para_unix_timestamp(df, colunas):\n",
        "    for coluna in colunas:\n",
        "        df = df.withColumn(\n",
        "            coluna,\n",
        "            F.when(F.col(coluna) != 0, F.from_unixtime(F.col(coluna)))\n",
        "             .otherwise(F.col(coluna))\n",
        "        )\n",
        "    return df\n",
        "\n",
        "colunas_para_tratar = [\"firstaccess\", \"lastaccess\", \"lastlogin\", \"currentlogin\", \"timecreated\", \"timemodified\"]\n",
        "df = tratar_campos_para_unix_timestamp(df, colunas_para_tratar)\n",
        "\n",
        "df.show(truncate=False)"
      ],
      "metadata": {
        "colab": {
          "base_uri": "https://localhost:8080/"
        },
        "id": "sNLZCECQ8mZO",
        "outputId": "f6fc31e6-cb34-4542-b859-97a3018fb977"
      },
      "execution_count": null,
      "outputs": [
        {
          "output_type": "stream",
          "name": "stdout",
          "text": [
            "+---+------+---------+------------+-------+---------+----------+--------+---------+---------------+-------------+-----+------------+-------------+-----------------+-------------------+-------------------+-------------------+-------------------+-------------+-------------+-------+--------------------------------------------------------------------------------------------------+-----------------+----------+----------+-----------+-------------+-----------+-------------------+-------------------+------------+-------------+\n",
            "|id |auth  |confirmed|policyagreed|deleted|suspended|mnethostid|username|emailstop|institution    |country      |lang |calendartype|theme        |timezone         |firstaccess        |lastaccess         |lastlogin          |currentlogin       |lastip       |secret       |picture|description                                                                                       |descriptionformat|mailformat|maildigest|maildisplay|autosubscribe|trackforums|timecreated        |timemodified       |trustbitmask|imagealt     |\n",
            "+---+------+---------+------------+-------+---------+----------+--------+---------+---------------+-------------+-----+------------+-------------+-----------------+-------------------+-------------------+-------------------+-------------------+-------------+-------------+-------+--------------------------------------------------------------------------------------------------+-----------------+----------+----------+-----------+-------------+-----------+-------------------+-------------------+------------+-------------+\n",
            "|1  |manual|1        |0           |0      |0        |1         |A       |0        |SoulCode       |não informado|pt_br|gregorian   |não informado|99               |0                  |0                  |0                  |0                  |não informado|não informado|0      |Este é um tipo de usuário especial que tem acesso a alguns curso com permissão limitada à leitura.|1                |1         |0         |2          |1            |0          |0                  |2024-01-08 23:31:45|0           |não informado|\n",
            "|2  |manual|1        |0           |0      |0        |1         |B       |0        |SoulCode       |BR           |pt_br|gregorian   |não informado|America/Sao_Paulo|2024-01-08 23:33:45|2024-09-23 19:37:31|2024-09-05 15:34:12|2024-09-23 19:36:23|35.191.42.1  |não informado|0      |não informado                                                                                     |1                |1         |0         |1          |1            |0          |0                  |2024-03-12 18:47:38|0           |não informado|\n",
            "|26 |manual|1        |0           |0      |0        |1         |C       |0        |SoulCode       |BR           |pt_br|gregorian   |não informado|America/Sao_Paulo|2024-01-31 20:17:07|2024-10-14 17:21:37|2024-09-26 17:29:48|2024-10-14 16:47:56|35.191.16.228|não informado|0      |não informado                                                                                     |1                |1         |0         |0          |1            |0          |2024-01-29 17:26:57|2024-01-31 20:16:50|0           |não informado|\n",
            "|27 |manual|1        |0           |0      |0        |1         |D       |0        |SoulCode       |BR           |pt_br|gregorian   |não informado|America/Sao_Paulo|2024-03-01 18:06:33|2024-03-08 11:45:21|2024-03-08 00:43:50|2024-03-08 11:44:03|130.211.1.125|não informado|0      |não informado                                                                                     |1                |1         |0         |0          |1            |0          |2024-01-29 17:26:57|2024-01-29 17:26:57|0           |não informado|\n",
            "|28 |manual|1        |0           |0      |0        |1         |E       |0        |SoulCode       |BR           |pt_br|gregorian   |não informado|America/Sao_Paulo|2024-02-05 23:16:05|2024-10-14 14:23:53|2024-10-14 14:12:29|2024-10-14 14:23:53|35.191.14.81 |não informado|0      |não informado                                                                                     |1                |1         |0         |0          |1            |0          |2024-01-29 17:26:57|2024-10-03 16:32:52|0           |não informado|\n",
            "|29 |manual|1        |0           |0      |0        |1         |F       |0        |SoulCode       |BR           |pt_br|gregorian   |não informado|America/Sao_Paulo|2024-03-25 17:37:15|2024-10-03 13:52:54|2024-10-03 12:21:01|2024-10-03 13:52:54|35.191.15.96 |não informado|0      |não informado                                                                                     |1                |1         |0         |0          |1            |0          |2024-01-29 17:26:58|2024-03-25 16:31:29|0           |não informado|\n",
            "|30 |manual|1        |0           |0      |0        |1         |G       |0        |SoulCode       |BR           |pt_br|gregorian   |não informado|America/Sao_Paulo|0                  |0                  |0                  |0                  |não informado|não informado|0      |não informado                                                                                     |1                |1         |0         |0          |1            |0          |2024-01-29 17:26:58|2024-01-29 17:26:58|0           |não informado|\n",
            "|31 |manual|1        |0           |0      |0        |1         |H       |0        |SoulCode       |BR           |pt_br|gregorian   |não informado|America/Sao_Paulo|2024-01-30 14:05:56|2024-01-30 15:20:19|0                  |2024-01-30 14:05:56|177.87.21.47 |não informado|0      |não informado                                                                                     |1                |1         |0         |0          |1            |0          |2024-01-29 17:26:58|2024-01-29 17:26:58|0           |não informado|\n",
            "|32 |manual|1        |0           |0      |0        |1         |I       |0        |SoulCode       |BR           |pt_br|gregorian   |não informado|America/Sao_Paulo|2024-02-19 19:47:58|2024-03-22 22:40:17|2024-03-13 13:23:51|2024-03-22 22:40:17|35.191.1.70  |não informado|0      |não informado                                                                                     |1                |1         |0         |0          |1            |0          |2024-01-29 17:26:58|2024-01-29 17:26:58|0           |não informado|\n",
            "|33 |manual|1        |0           |0      |0        |1         |J       |0        |Assinatura Tech|BR           |pt_br|gregorian   |não informado|America/Sao_Paulo|0                  |0                  |0                  |0                  |não informado|não informado|0      |não informado                                                                                     |1                |1         |0         |0          |1            |0          |2024-01-29 17:26:58|2024-01-29 17:26:58|0           |não informado|\n",
            "|34 |manual|1        |0           |0      |0        |1         |K       |0        |Assinatura Tech|BR           |pt_br|gregorian   |não informado|America/Sao_Paulo|2024-01-31 19:08:39|2024-09-29 18:51:03|2024-07-17 03:13:24|2024-09-29 18:49:40|35.191.14.82 |não informado|0      |não informado                                                                                     |1                |1         |0         |0          |1            |0          |2024-01-29 17:26:58|2024-01-29 17:26:58|0           |não informado|\n",
            "|35 |manual|1        |0           |0      |0        |1         |L       |0        |Assinatura Tech|BR           |pt_br|gregorian   |não informado|America/Sao_Paulo|0                  |0                  |0                  |0                  |não informado|não informado|0      |não informado                                                                                     |1                |1         |0         |0          |1            |0          |2024-01-29 17:26:58|2024-01-29 17:26:58|0           |não informado|\n",
            "|36 |manual|1        |0           |0      |0        |1         |M       |0        |Assinatura Tech|BR           |pt_br|gregorian   |não informado|America/Sao_Paulo|0                  |0                  |0                  |0                  |não informado|não informado|0      |não informado                                                                                     |1                |1         |0         |0          |1            |0          |2024-01-29 17:26:58|2024-01-29 17:26:58|0           |não informado|\n",
            "|37 |manual|1        |0           |0      |0        |1         |N       |0        |Assinatura Tech|BR           |pt_br|gregorian   |não informado|America/Sao_Paulo|2024-01-30 17:49:17|2024-05-13 13:27:54|2024-05-12 13:59:51|2024-05-13 12:05:40|192.168.22.8 |não informado|0      |não informado                                                                                     |1                |1         |0         |0          |1            |0          |2024-01-29 17:26:58|2024-05-12 14:16:19|0           |não informado|\n",
            "|38 |manual|1        |0           |0      |0        |1         |O       |0        |Assinatura Tech|BR           |pt_br|gregorian   |não informado|America/Sao_Paulo|0                  |0                  |0                  |0                  |não informado|não informado|0      |não informado                                                                                     |1                |1         |0         |0          |1            |0          |2024-01-29 17:26:58|2024-01-29 17:26:58|0           |não informado|\n",
            "|39 |manual|1        |0           |0      |0        |1         |P       |0        |Assinatura Tech|BR           |pt_br|gregorian   |não informado|America/Sao_Paulo|0                  |0                  |0                  |0                  |não informado|não informado|0      |não informado                                                                                     |1                |1         |0         |0          |1            |0          |2024-01-29 17:26:58|2024-01-29 17:26:58|0           |não informado|\n",
            "|40 |manual|1        |0           |0      |0        |1         |Q       |0        |Assinatura Tech|BR           |pt_br|gregorian   |não informado|America/Sao_Paulo|0                  |0                  |0                  |0                  |não informado|não informado|0      |não informado                                                                                     |1                |1         |0         |0          |1            |0          |2024-01-29 17:26:58|2024-01-29 17:26:58|0           |não informado|\n",
            "|41 |manual|1        |0           |0      |0        |1         |R       |0        |Assinatura Tech|BR           |pt_br|gregorian   |não informado|America/Sao_Paulo|0                  |0                  |0                  |0                  |não informado|não informado|0      |não informado                                                                                     |1                |1         |0         |0          |1            |0          |2024-01-29 17:26:58|2024-01-29 17:26:58|0           |não informado|\n",
            "|42 |manual|1        |0           |0      |0        |1         |S       |0        |Assinatura Tech|BR           |pt_br|gregorian   |não informado|America/Sao_Paulo|0                  |0                  |0                  |0                  |não informado|não informado|0      |não informado                                                                                     |1                |1         |0         |0          |1            |0          |2024-01-29 17:26:58|2024-01-29 17:26:58|0           |não informado|\n",
            "|43 |manual|1        |0           |0      |0        |1         |T       |0        |Assinatura Tech|BR           |pt_br|gregorian   |não informado|America/Sao_Paulo|0                  |0                  |0                  |0                  |não informado|não informado|0      |não informado                                                                                     |1                |1         |0         |0          |1            |0          |2024-01-29 17:26:58|2024-01-29 17:26:58|0           |não informado|\n",
            "+---+------+---------+------------+-------+---------+----------+--------+---------+---------------+-------------+-----+------------+-------------+-----------------+-------------------+-------------------+-------------------+-------------------+-------------+-------------+-------+--------------------------------------------------------------------------------------------------+-----------------+----------+----------+-----------+-------------+-----------+-------------------+-------------------+------------+-------------+\n",
            "only showing top 20 rows\n",
            "\n"
          ]
        }
      ]
    },
    {
      "cell_type": "code",
      "source": [
        "import pandas as pd\n",
        "\n",
        "df_pandas = df.toPandas()\n",
        "\n",
        "df_pandas['id'] = pd.to_numeric(df_pandas['id'], errors='coerce')\n",
        "\n",
        "\n",
        "df_pandas.to_csv('mdl_user2.csv', index=False)"
      ],
      "metadata": {
        "colab": {
          "base_uri": "https://localhost:8080/",
          "height": 356
        },
        "id": "X6Tt6uzQ8tXv",
        "outputId": "3fee6f4d-b69b-4a8a-9c96-93e4776aa273"
      },
      "execution_count": null,
      "outputs": [
        {
          "output_type": "error",
          "ename": "KeyboardInterrupt",
          "evalue": "",
          "traceback": [
            "\u001b[0;31m---------------------------------------------------------------------------\u001b[0m",
            "\u001b[0;31mKeyboardInterrupt\u001b[0m                         Traceback (most recent call last)",
            "\u001b[0;32m<ipython-input-4-914b1c6845df>\u001b[0m in \u001b[0;36m<cell line: 3>\u001b[0;34m()\u001b[0m\n\u001b[1;32m      1\u001b[0m \u001b[0;32mimport\u001b[0m \u001b[0mpandas\u001b[0m \u001b[0;32mas\u001b[0m \u001b[0mpd\u001b[0m\u001b[0;34m\u001b[0m\u001b[0;34m\u001b[0m\u001b[0m\n\u001b[1;32m      2\u001b[0m \u001b[0;34m\u001b[0m\u001b[0m\n\u001b[0;32m----> 3\u001b[0;31m \u001b[0mdf_pandas\u001b[0m \u001b[0;34m=\u001b[0m \u001b[0mdf\u001b[0m\u001b[0;34m.\u001b[0m\u001b[0mtoPandas\u001b[0m\u001b[0;34m(\u001b[0m\u001b[0;34m)\u001b[0m\u001b[0;34m\u001b[0m\u001b[0;34m\u001b[0m\u001b[0m\n\u001b[0m\u001b[1;32m      4\u001b[0m \u001b[0;34m\u001b[0m\u001b[0m\n\u001b[1;32m      5\u001b[0m \u001b[0mdf_pandas\u001b[0m\u001b[0;34m[\u001b[0m\u001b[0;34m'id'\u001b[0m\u001b[0;34m]\u001b[0m \u001b[0;34m=\u001b[0m \u001b[0mpd\u001b[0m\u001b[0;34m.\u001b[0m\u001b[0mto_numeric\u001b[0m\u001b[0;34m(\u001b[0m\u001b[0mdf_pandas\u001b[0m\u001b[0;34m[\u001b[0m\u001b[0;34m'id'\u001b[0m\u001b[0;34m]\u001b[0m\u001b[0;34m,\u001b[0m \u001b[0merrors\u001b[0m\u001b[0;34m=\u001b[0m\u001b[0;34m'coerce'\u001b[0m\u001b[0;34m)\u001b[0m\u001b[0;34m\u001b[0m\u001b[0;34m\u001b[0m\u001b[0m\n",
            "\u001b[0;32m/usr/local/lib/python3.10/dist-packages/pyspark/sql/pandas/conversion.py\u001b[0m in \u001b[0;36mtoPandas\u001b[0;34m(self)\u001b[0m\n\u001b[1;32m    200\u001b[0m \u001b[0;34m\u001b[0m\u001b[0m\n\u001b[1;32m    201\u001b[0m         \u001b[0;31m# Below is toPandas without Arrow optimization.\u001b[0m\u001b[0;34m\u001b[0m\u001b[0;34m\u001b[0m\u001b[0m\n\u001b[0;32m--> 202\u001b[0;31m         \u001b[0mrows\u001b[0m \u001b[0;34m=\u001b[0m \u001b[0mself\u001b[0m\u001b[0;34m.\u001b[0m\u001b[0mcollect\u001b[0m\u001b[0;34m(\u001b[0m\u001b[0;34m)\u001b[0m\u001b[0;34m\u001b[0m\u001b[0;34m\u001b[0m\u001b[0m\n\u001b[0m\u001b[1;32m    203\u001b[0m         \u001b[0;32mif\u001b[0m \u001b[0mlen\u001b[0m\u001b[0;34m(\u001b[0m\u001b[0mrows\u001b[0m\u001b[0;34m)\u001b[0m \u001b[0;34m>\u001b[0m \u001b[0;36m0\u001b[0m\u001b[0;34m:\u001b[0m\u001b[0;34m\u001b[0m\u001b[0;34m\u001b[0m\u001b[0m\n\u001b[1;32m    204\u001b[0m             pdf = pd.DataFrame.from_records(\n",
            "\u001b[0;32m/usr/local/lib/python3.10/dist-packages/pyspark/sql/dataframe.py\u001b[0m in \u001b[0;36mcollect\u001b[0;34m(self)\u001b[0m\n\u001b[1;32m   1262\u001b[0m         \u001b[0;32mwith\u001b[0m \u001b[0mSCCallSiteSync\u001b[0m\u001b[0;34m(\u001b[0m\u001b[0mself\u001b[0m\u001b[0;34m.\u001b[0m\u001b[0m_sc\u001b[0m\u001b[0;34m)\u001b[0m\u001b[0;34m:\u001b[0m\u001b[0;34m\u001b[0m\u001b[0;34m\u001b[0m\u001b[0m\n\u001b[1;32m   1263\u001b[0m             \u001b[0msock_info\u001b[0m \u001b[0;34m=\u001b[0m \u001b[0mself\u001b[0m\u001b[0;34m.\u001b[0m\u001b[0m_jdf\u001b[0m\u001b[0;34m.\u001b[0m\u001b[0mcollectToPython\u001b[0m\u001b[0;34m(\u001b[0m\u001b[0;34m)\u001b[0m\u001b[0;34m\u001b[0m\u001b[0;34m\u001b[0m\u001b[0m\n\u001b[0;32m-> 1264\u001b[0;31m         \u001b[0;32mreturn\u001b[0m \u001b[0mlist\u001b[0m\u001b[0;34m(\u001b[0m\u001b[0m_load_from_socket\u001b[0m\u001b[0;34m(\u001b[0m\u001b[0msock_info\u001b[0m\u001b[0;34m,\u001b[0m \u001b[0mBatchedSerializer\u001b[0m\u001b[0;34m(\u001b[0m\u001b[0mCPickleSerializer\u001b[0m\u001b[0;34m(\u001b[0m\u001b[0;34m)\u001b[0m\u001b[0;34m)\u001b[0m\u001b[0;34m)\u001b[0m\u001b[0;34m)\u001b[0m\u001b[0;34m\u001b[0m\u001b[0;34m\u001b[0m\u001b[0m\n\u001b[0m\u001b[1;32m   1265\u001b[0m \u001b[0;34m\u001b[0m\u001b[0m\n\u001b[1;32m   1266\u001b[0m     \u001b[0;32mdef\u001b[0m \u001b[0mtoLocalIterator\u001b[0m\u001b[0;34m(\u001b[0m\u001b[0mself\u001b[0m\u001b[0;34m,\u001b[0m \u001b[0mprefetchPartitions\u001b[0m\u001b[0;34m:\u001b[0m \u001b[0mbool\u001b[0m \u001b[0;34m=\u001b[0m \u001b[0;32mFalse\u001b[0m\u001b[0;34m)\u001b[0m \u001b[0;34m->\u001b[0m \u001b[0mIterator\u001b[0m\u001b[0;34m[\u001b[0m\u001b[0mRow\u001b[0m\u001b[0;34m]\u001b[0m\u001b[0;34m:\u001b[0m\u001b[0;34m\u001b[0m\u001b[0;34m\u001b[0m\u001b[0m\n",
            "\u001b[0;32m/usr/local/lib/python3.10/dist-packages/pyspark/serializers.py\u001b[0m in \u001b[0;36mload_stream\u001b[0;34m(self, stream)\u001b[0m\n\u001b[1;32m    150\u001b[0m         \u001b[0;32mwhile\u001b[0m \u001b[0;32mTrue\u001b[0m\u001b[0;34m:\u001b[0m\u001b[0;34m\u001b[0m\u001b[0;34m\u001b[0m\u001b[0m\n\u001b[1;32m    151\u001b[0m             \u001b[0;32mtry\u001b[0m\u001b[0;34m:\u001b[0m\u001b[0;34m\u001b[0m\u001b[0;34m\u001b[0m\u001b[0m\n\u001b[0;32m--> 152\u001b[0;31m                 \u001b[0;32myield\u001b[0m \u001b[0mself\u001b[0m\u001b[0;34m.\u001b[0m\u001b[0m_read_with_length\u001b[0m\u001b[0;34m(\u001b[0m\u001b[0mstream\u001b[0m\u001b[0;34m)\u001b[0m\u001b[0;34m\u001b[0m\u001b[0;34m\u001b[0m\u001b[0m\n\u001b[0m\u001b[1;32m    153\u001b[0m             \u001b[0;32mexcept\u001b[0m \u001b[0mEOFError\u001b[0m\u001b[0;34m:\u001b[0m\u001b[0;34m\u001b[0m\u001b[0;34m\u001b[0m\u001b[0m\n\u001b[1;32m    154\u001b[0m                 \u001b[0;32mreturn\u001b[0m\u001b[0;34m\u001b[0m\u001b[0;34m\u001b[0m\u001b[0m\n",
            "\u001b[0;32m/usr/local/lib/python3.10/dist-packages/pyspark/serializers.py\u001b[0m in \u001b[0;36m_read_with_length\u001b[0;34m(self, stream)\u001b[0m\n\u001b[1;32m    169\u001b[0m         \u001b[0;32melif\u001b[0m \u001b[0mlength\u001b[0m \u001b[0;34m==\u001b[0m \u001b[0mSpecialLengths\u001b[0m\u001b[0;34m.\u001b[0m\u001b[0mNULL\u001b[0m\u001b[0;34m:\u001b[0m\u001b[0;34m\u001b[0m\u001b[0;34m\u001b[0m\u001b[0m\n\u001b[1;32m    170\u001b[0m             \u001b[0;32mreturn\u001b[0m \u001b[0;32mNone\u001b[0m\u001b[0;34m\u001b[0m\u001b[0;34m\u001b[0m\u001b[0m\n\u001b[0;32m--> 171\u001b[0;31m         \u001b[0mobj\u001b[0m \u001b[0;34m=\u001b[0m \u001b[0mstream\u001b[0m\u001b[0;34m.\u001b[0m\u001b[0mread\u001b[0m\u001b[0;34m(\u001b[0m\u001b[0mlength\u001b[0m\u001b[0;34m)\u001b[0m\u001b[0;34m\u001b[0m\u001b[0;34m\u001b[0m\u001b[0m\n\u001b[0m\u001b[1;32m    172\u001b[0m         \u001b[0;32mif\u001b[0m \u001b[0mlen\u001b[0m\u001b[0;34m(\u001b[0m\u001b[0mobj\u001b[0m\u001b[0;34m)\u001b[0m \u001b[0;34m<\u001b[0m \u001b[0mlength\u001b[0m\u001b[0;34m:\u001b[0m\u001b[0;34m\u001b[0m\u001b[0;34m\u001b[0m\u001b[0m\n\u001b[1;32m    173\u001b[0m             \u001b[0;32mraise\u001b[0m \u001b[0mEOFError\u001b[0m\u001b[0;34m\u001b[0m\u001b[0;34m\u001b[0m\u001b[0m\n",
            "\u001b[0;32m/usr/lib/python3.10/socket.py\u001b[0m in \u001b[0;36mreadinto\u001b[0;34m(self, b)\u001b[0m\n\u001b[1;32m    703\u001b[0m         \u001b[0;32mwhile\u001b[0m \u001b[0;32mTrue\u001b[0m\u001b[0;34m:\u001b[0m\u001b[0;34m\u001b[0m\u001b[0;34m\u001b[0m\u001b[0m\n\u001b[1;32m    704\u001b[0m             \u001b[0;32mtry\u001b[0m\u001b[0;34m:\u001b[0m\u001b[0;34m\u001b[0m\u001b[0;34m\u001b[0m\u001b[0m\n\u001b[0;32m--> 705\u001b[0;31m                 \u001b[0;32mreturn\u001b[0m \u001b[0mself\u001b[0m\u001b[0;34m.\u001b[0m\u001b[0m_sock\u001b[0m\u001b[0;34m.\u001b[0m\u001b[0mrecv_into\u001b[0m\u001b[0;34m(\u001b[0m\u001b[0mb\u001b[0m\u001b[0;34m)\u001b[0m\u001b[0;34m\u001b[0m\u001b[0;34m\u001b[0m\u001b[0m\n\u001b[0m\u001b[1;32m    706\u001b[0m             \u001b[0;32mexcept\u001b[0m \u001b[0mtimeout\u001b[0m\u001b[0;34m:\u001b[0m\u001b[0;34m\u001b[0m\u001b[0;34m\u001b[0m\u001b[0m\n\u001b[1;32m    707\u001b[0m                 \u001b[0mself\u001b[0m\u001b[0;34m.\u001b[0m\u001b[0m_timeout_occurred\u001b[0m \u001b[0;34m=\u001b[0m \u001b[0;32mTrue\u001b[0m\u001b[0;34m\u001b[0m\u001b[0;34m\u001b[0m\u001b[0m\n",
            "\u001b[0;31mKeyboardInterrupt\u001b[0m: "
          ]
        }
      ]
    },
    {
      "cell_type": "code",
      "source": [
        "import pandas as pd\n",
        "from pandas_gbq import to_gbq\n",
        "\n",
        "table_id = 'mdl_user'\n",
        "dataset_id = 'dados_estudos'\n",
        "project_id = 'cryptic-cache-434413-r6'\n",
        "\n",
        "# Converter o DataFrame Spark para pandas\n",
        "df_pandas = df.toPandas()\n",
        "\n",
        "# Definir as colunas de timestamp\n",
        "timestamp_columns = [\"firstaccess\", \"lastaccess\", \"lastlogin\", \"currentlogin\", \"timecreated\", \"timemodified\"]\n",
        "\n",
        "# Formato de data\n",
        "date_format = \"%Y-%m-%d %H:%M:%S\"\n",
        "\n",
        "# Converter as colunas de timestamp para datetime\n",
        "for col in timestamp_columns:\n",
        "    if col in df_pandas.columns:\n",
        "        df_pandas[col] = pd.to_datetime(df_pandas[col], format=date_format, errors='coerce')\n",
        "\n",
        "# Converter a coluna 'id' para INTEGER\n",
        "if 'id' in df_pandas.columns:\n",
        "    df_pandas['id'] = pd.to_numeric(df_pandas['id'], errors='coerce').astype('Int64')\n",
        "\n",
        "# Referência da tabela\n",
        "table_ref = f'{project_id}.{dataset_id}.{table_id}'\n",
        "\n",
        "# Carregar o DataFrame pandas para o BigQuery\n",
        "to_gbq(df_pandas, destination_table=table_ref, project_id=project_id, if_exists='replace')\n"
      ],
      "metadata": {
        "colab": {
          "base_uri": "https://localhost:8080/"
        },
        "id": "iN7v02Z_8pTe",
        "outputId": "e9c08e5d-9744-46f3-fa07-fa2128759c34"
      },
      "execution_count": null,
      "outputs": [
        {
          "output_type": "stream",
          "name": "stderr",
          "text": [
            "100%|██████████| 1/1 [00:00<00:00, 6944.21it/s]\n"
          ]
        }
      ]
    }
  ]
}